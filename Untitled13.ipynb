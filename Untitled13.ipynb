{
  "nbformat": 4,
  "nbformat_minor": 0,
  "metadata": {
    "colab": {
      "provenance": [],
      "authorship_tag": "ABX9TyNa8pzhN3n23aeJBpVrw4gl",
      "include_colab_link": true
    },
    "kernelspec": {
      "name": "python3",
      "display_name": "Python 3"
    },
    "language_info": {
      "name": "python"
    }
  },
  "cells": [
    {
      "cell_type": "markdown",
      "metadata": {
        "id": "view-in-github",
        "colab_type": "text"
      },
      "source": [
        "<a href=\"https://colab.research.google.com/github/rahmosthated/movie-collection/blob/main/Untitled13.ipynb\" target=\"_parent\"><img src=\"https://colab.research.google.com/assets/colab-badge.svg\" alt=\"Open In Colab\"/></a>"
      ]
    },
    {
      "cell_type": "code",
      "execution_count": null,
      "metadata": {
        "id": "YXdpeJHgR5UD"
      },
      "outputs": [],
      "source": [
        "# Create a list named 'movies', where each item is a dictionary representing a movie\n",
        "movies = [\n",
        "    {\n",
        "        \"Title\": \"Inception\",\n",
        "        \"Director\": \"Christopher Nolan\",\n",
        "        \"Release Year\": 2010,\n",
        "        \"Genre\": \"Science Fiction\"\n",
        "    },\n",
        "    {\n",
        "        \"Title\": \"The Matrix\",\n",
        "        \"Director\": \"Lana Wachowski, Lilly Wachowski\",\n",
        "        \"Release Year\": 1999,\n",
        "        \"Genre\": \"Action\"\n",
        "    }\n",
        "]\n",
        "\n",
        "# Print the original list of movies\n",
        "print(\"Initial movies list:\")\n",
        "print(movies)\n",
        "\n",
        "# Modify the genre of 'The Matrix' from 'Action' to 'Science Fiction'\n",
        "movies[1][\"Genre\"] = \"Science Fiction\"\n",
        "\n",
        "# Print the movies list after modifying the genre\n",
        "print(\"\\nMovies list after changing genre of 'The Matrix':\")\n",
        "print(movies)\n",
        "\n",
        "# Create a new movie dictionary\n",
        "new_movie = {\n",
        "    \"Title\": \"The Godfather\",\n",
        "    \"Director\": \"Francis Ford Coppola\",\n",
        "    \"Release Year\": 1972,\n",
        "    \"Genre\": \"Crime\"\n",
        "}\n",
        "\n",
        "# Add the new movie to the list\n",
        "movies.append(new_movie)\n",
        "\n",
        "# Print the updated movies list with the new movie added\n",
        "print(\"\\nUpdated movies list after adding 'The Godfather':\")\n",
        "print(movies)\n"
      ]
    }
  ]
}