{
  "nbformat": 4,
  "nbformat_minor": 0,
  "metadata": {
    "colab": {
      "provenance": [],
      "authorship_tag": "ABX9TyMltNc0d2/DvzzoW3p+2azz",
      "include_colab_link": true
    },
    "kernelspec": {
      "name": "python3",
      "display_name": "Python 3"
    },
    "language_info": {
      "name": "python"
    }
  },
  "cells": [
    {
      "cell_type": "markdown",
      "metadata": {
        "id": "view-in-github",
        "colab_type": "text"
      },
      "source": [
        "<a href=\"https://colab.research.google.com/github/rahmosthated/movie-collection/blob/main/Untitled14.ipynb\" target=\"_parent\"><img src=\"https://colab.research.google.com/assets/colab-badge.svg\" alt=\"Open In Colab\"/></a>"
      ]
    },
    {
      "cell_type": "code",
      "execution_count": null,
      "metadata": {
        "id": "azFFC7lGS__6"
      },
      "outputs": [],
      "source": [
        "# Create a list of travel destinations\n",
        "destinations = [\n",
        "    {\n",
        "        \"Country\": \"France\",\n",
        "        \"City\": \"Paris\",\n",
        "        \"Popular Attractions\": [\"Eiffel Tower\", \"Louvre Museum\"],\n",
        "        \"Best Time to Visit\": \"April to June\"\n",
        "    },\n",
        "    {\n",
        "        \"Country\": \"Japan\",\n",
        "        \"City\": \"Kyoto\",\n",
        "        \"Popular Attractions\": [\"Fushimi Inari Shrine\", \"Bamboo Forest\"],\n",
        "        \"Best Time to Visit\": \"March to May\"\n",
        "    }\n",
        "]\n",
        "\n",
        "# Print the original list of destinations\n",
        "print(\"Initial destinations:\")\n",
        "print(destinations)\n",
        "\n",
        "# Change the best time to visit for Kyoto\n",
        "destinations[1][\"Best Time to Visit\"] = \"October to November\"\n",
        "\n",
        "# Print the list after the change\n",
        "print(\"\\nAfter updating best time to visit Kyoto:\")\n",
        "print(destinations)\n",
        "\n",
        "#\n"
      ]
    }
  ]
}